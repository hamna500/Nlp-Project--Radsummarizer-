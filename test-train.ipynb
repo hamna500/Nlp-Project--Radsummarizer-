{
 "cells": [
  {
   "cell_type": "code",
   "execution_count": 1,
   "id": "860368c4-852e-41cd-944d-b73db01bf515",
   "metadata": {},
   "outputs": [
    {
     "name": "stdout",
     "output_type": "stream",
     "text": [
      "Requirement already satisfied: transformers==4.39.3 in /opt/anaconda3/envs/rad-nlp/lib/python3.10/site-packages (4.39.3)\n",
      "Requirement already satisfied: tf-keras==2.14.1 in /opt/anaconda3/envs/rad-nlp/lib/python3.10/site-packages (2.14.1)\n",
      "Requirement already satisfied: datasets in /opt/anaconda3/envs/rad-nlp/lib/python3.10/site-packages (3.6.0)\n",
      "Requirement already satisfied: torch in /opt/anaconda3/envs/rad-nlp/lib/python3.10/site-packages (2.7.1)\n",
      "Requirement already satisfied: scikit-learn in /opt/anaconda3/envs/rad-nlp/lib/python3.10/site-packages (1.7.0)\n",
      "Requirement already satisfied: pandas in /opt/anaconda3/envs/rad-nlp/lib/python3.10/site-packages (2.3.0)\n",
      "Requirement already satisfied: filelock in /opt/anaconda3/envs/rad-nlp/lib/python3.10/site-packages (from transformers==4.39.3) (3.18.0)\n",
      "Requirement already satisfied: huggingface-hub<1.0,>=0.19.3 in /opt/anaconda3/envs/rad-nlp/lib/python3.10/site-packages (from transformers==4.39.3) (0.33.0)\n",
      "Requirement already satisfied: numpy>=1.17 in /opt/anaconda3/envs/rad-nlp/lib/python3.10/site-packages (from transformers==4.39.3) (2.2.6)\n",
      "Requirement already satisfied: packaging>=20.0 in /opt/anaconda3/envs/rad-nlp/lib/python3.10/site-packages (from transformers==4.39.3) (25.0)\n",
      "Requirement already satisfied: pyyaml>=5.1 in /opt/anaconda3/envs/rad-nlp/lib/python3.10/site-packages (from transformers==4.39.3) (6.0.2)\n",
      "Requirement already satisfied: regex!=2019.12.17 in /opt/anaconda3/envs/rad-nlp/lib/python3.10/site-packages (from transformers==4.39.3) (2024.11.6)\n",
      "Requirement already satisfied: requests in /opt/anaconda3/envs/rad-nlp/lib/python3.10/site-packages (from transformers==4.39.3) (2.32.4)\n",
      "Requirement already satisfied: tokenizers<0.19,>=0.14 in /opt/anaconda3/envs/rad-nlp/lib/python3.10/site-packages (from transformers==4.39.3) (0.15.2)\n",
      "Requirement already satisfied: safetensors>=0.4.1 in /opt/anaconda3/envs/rad-nlp/lib/python3.10/site-packages (from transformers==4.39.3) (0.5.3)\n",
      "Requirement already satisfied: tqdm>=4.27 in /opt/anaconda3/envs/rad-nlp/lib/python3.10/site-packages (from transformers==4.39.3) (4.67.1)\n",
      "Requirement already satisfied: fsspec>=2023.5.0 in /opt/anaconda3/envs/rad-nlp/lib/python3.10/site-packages (from huggingface-hub<1.0,>=0.19.3->transformers==4.39.3) (2025.3.0)\n",
      "Requirement already satisfied: typing-extensions>=3.7.4.3 in /opt/anaconda3/envs/rad-nlp/lib/python3.10/site-packages (from huggingface-hub<1.0,>=0.19.3->transformers==4.39.3) (4.14.0)\n",
      "Requirement already satisfied: hf-xet<2.0.0,>=1.1.2 in /opt/anaconda3/envs/rad-nlp/lib/python3.10/site-packages (from huggingface-hub<1.0,>=0.19.3->transformers==4.39.3) (1.1.3)\n",
      "Requirement already satisfied: pyarrow>=15.0.0 in /opt/anaconda3/envs/rad-nlp/lib/python3.10/site-packages (from datasets) (20.0.0)\n",
      "Requirement already satisfied: dill<0.3.9,>=0.3.0 in /opt/anaconda3/envs/rad-nlp/lib/python3.10/site-packages (from datasets) (0.3.8)\n",
      "Requirement already satisfied: xxhash in /opt/anaconda3/envs/rad-nlp/lib/python3.10/site-packages (from datasets) (3.5.0)\n",
      "Requirement already satisfied: multiprocess<0.70.17 in /opt/anaconda3/envs/rad-nlp/lib/python3.10/site-packages (from datasets) (0.70.16)\n",
      "Requirement already satisfied: aiohttp!=4.0.0a0,!=4.0.0a1 in /opt/anaconda3/envs/rad-nlp/lib/python3.10/site-packages (from fsspec[http]<=2025.3.0,>=2023.1.0->datasets) (3.12.13)\n",
      "Requirement already satisfied: sympy>=1.13.3 in /opt/anaconda3/envs/rad-nlp/lib/python3.10/site-packages (from torch) (1.14.0)\n",
      "Requirement already satisfied: networkx in /opt/anaconda3/envs/rad-nlp/lib/python3.10/site-packages (from torch) (3.4.2)\n",
      "Requirement already satisfied: jinja2 in /opt/anaconda3/envs/rad-nlp/lib/python3.10/site-packages (from torch) (3.1.6)\n",
      "Requirement already satisfied: scipy>=1.8.0 in /opt/anaconda3/envs/rad-nlp/lib/python3.10/site-packages (from scikit-learn) (1.15.3)\n",
      "Requirement already satisfied: joblib>=1.2.0 in /opt/anaconda3/envs/rad-nlp/lib/python3.10/site-packages (from scikit-learn) (1.5.1)\n",
      "Requirement already satisfied: threadpoolctl>=3.1.0 in /opt/anaconda3/envs/rad-nlp/lib/python3.10/site-packages (from scikit-learn) (3.6.0)\n",
      "Requirement already satisfied: python-dateutil>=2.8.2 in /opt/anaconda3/envs/rad-nlp/lib/python3.10/site-packages (from pandas) (2.9.0.post0)\n",
      "Requirement already satisfied: pytz>=2020.1 in /opt/anaconda3/envs/rad-nlp/lib/python3.10/site-packages (from pandas) (2025.2)\n",
      "Requirement already satisfied: tzdata>=2022.7 in /opt/anaconda3/envs/rad-nlp/lib/python3.10/site-packages (from pandas) (2025.2)\n",
      "Requirement already satisfied: aiohappyeyeballs>=2.5.0 in /opt/anaconda3/envs/rad-nlp/lib/python3.10/site-packages (from aiohttp!=4.0.0a0,!=4.0.0a1->fsspec[http]<=2025.3.0,>=2023.1.0->datasets) (2.6.1)\n",
      "Requirement already satisfied: aiosignal>=1.1.2 in /opt/anaconda3/envs/rad-nlp/lib/python3.10/site-packages (from aiohttp!=4.0.0a0,!=4.0.0a1->fsspec[http]<=2025.3.0,>=2023.1.0->datasets) (1.3.2)\n",
      "Requirement already satisfied: async-timeout<6.0,>=4.0 in /opt/anaconda3/envs/rad-nlp/lib/python3.10/site-packages (from aiohttp!=4.0.0a0,!=4.0.0a1->fsspec[http]<=2025.3.0,>=2023.1.0->datasets) (5.0.1)\n",
      "Requirement already satisfied: attrs>=17.3.0 in /opt/anaconda3/envs/rad-nlp/lib/python3.10/site-packages (from aiohttp!=4.0.0a0,!=4.0.0a1->fsspec[http]<=2025.3.0,>=2023.1.0->datasets) (25.3.0)\n",
      "Requirement already satisfied: frozenlist>=1.1.1 in /opt/anaconda3/envs/rad-nlp/lib/python3.10/site-packages (from aiohttp!=4.0.0a0,!=4.0.0a1->fsspec[http]<=2025.3.0,>=2023.1.0->datasets) (1.7.0)\n",
      "Requirement already satisfied: multidict<7.0,>=4.5 in /opt/anaconda3/envs/rad-nlp/lib/python3.10/site-packages (from aiohttp!=4.0.0a0,!=4.0.0a1->fsspec[http]<=2025.3.0,>=2023.1.0->datasets) (6.4.4)\n",
      "Requirement already satisfied: propcache>=0.2.0 in /opt/anaconda3/envs/rad-nlp/lib/python3.10/site-packages (from aiohttp!=4.0.0a0,!=4.0.0a1->fsspec[http]<=2025.3.0,>=2023.1.0->datasets) (0.3.2)\n",
      "Requirement already satisfied: yarl<2.0,>=1.17.0 in /opt/anaconda3/envs/rad-nlp/lib/python3.10/site-packages (from aiohttp!=4.0.0a0,!=4.0.0a1->fsspec[http]<=2025.3.0,>=2023.1.0->datasets) (1.20.1)\n",
      "Requirement already satisfied: idna>=2.0 in /opt/anaconda3/envs/rad-nlp/lib/python3.10/site-packages (from yarl<2.0,>=1.17.0->aiohttp!=4.0.0a0,!=4.0.0a1->fsspec[http]<=2025.3.0,>=2023.1.0->datasets) (3.10)\n",
      "Requirement already satisfied: six>=1.5 in /opt/anaconda3/envs/rad-nlp/lib/python3.10/site-packages (from python-dateutil>=2.8.2->pandas) (1.17.0)\n",
      "Requirement already satisfied: charset_normalizer<4,>=2 in /opt/anaconda3/envs/rad-nlp/lib/python3.10/site-packages (from requests->transformers==4.39.3) (3.4.2)\n",
      "Requirement already satisfied: urllib3<3,>=1.21.1 in /opt/anaconda3/envs/rad-nlp/lib/python3.10/site-packages (from requests->transformers==4.39.3) (2.4.0)\n",
      "Requirement already satisfied: certifi>=2017.4.17 in /opt/anaconda3/envs/rad-nlp/lib/python3.10/site-packages (from requests->transformers==4.39.3) (2025.6.15)\n",
      "Requirement already satisfied: mpmath<1.4,>=1.1.0 in /opt/anaconda3/envs/rad-nlp/lib/python3.10/site-packages (from sympy>=1.13.3->torch) (1.3.0)\n",
      "Requirement already satisfied: MarkupSafe>=2.0 in /opt/anaconda3/envs/rad-nlp/lib/python3.10/site-packages (from jinja2->torch) (3.0.2)\n"
     ]
    }
   ],
   "source": [
    "!pip install transformers==4.39.3 tf-keras==2.14.1 datasets torch scikit-learn pandas\n"
   ]
  },
  {
   "cell_type": "code",
   "execution_count": 13,
   "id": "4f53df17-b642-48d0-b849-2d7be6407122",
   "metadata": {},
   "outputs": [
    {
     "name": "stdout",
     "output_type": "stream",
     "text": [
      "Collecting accelerate==0.28.0\n",
      "  Downloading accelerate-0.28.0-py3-none-any.whl.metadata (18 kB)\n",
      "Requirement already satisfied: numpy>=1.17 in /opt/anaconda3/envs/rad-nlp/lib/python3.10/site-packages (from accelerate==0.28.0) (2.2.6)\n",
      "Requirement already satisfied: packaging>=20.0 in /opt/anaconda3/envs/rad-nlp/lib/python3.10/site-packages (from accelerate==0.28.0) (25.0)\n",
      "Requirement already satisfied: psutil in /opt/anaconda3/envs/rad-nlp/lib/python3.10/site-packages (from accelerate==0.28.0) (7.0.0)\n",
      "Requirement already satisfied: pyyaml in /opt/anaconda3/envs/rad-nlp/lib/python3.10/site-packages (from accelerate==0.28.0) (6.0.2)\n",
      "Requirement already satisfied: torch>=1.10.0 in /opt/anaconda3/envs/rad-nlp/lib/python3.10/site-packages (from accelerate==0.28.0) (2.7.1)\n",
      "Requirement already satisfied: huggingface-hub in /opt/anaconda3/envs/rad-nlp/lib/python3.10/site-packages (from accelerate==0.28.0) (0.33.0)\n",
      "Requirement already satisfied: safetensors>=0.3.1 in /opt/anaconda3/envs/rad-nlp/lib/python3.10/site-packages (from accelerate==0.28.0) (0.5.3)\n",
      "Requirement already satisfied: filelock in /opt/anaconda3/envs/rad-nlp/lib/python3.10/site-packages (from torch>=1.10.0->accelerate==0.28.0) (3.18.0)\n",
      "Requirement already satisfied: typing-extensions>=4.10.0 in /opt/anaconda3/envs/rad-nlp/lib/python3.10/site-packages (from torch>=1.10.0->accelerate==0.28.0) (4.14.0)\n",
      "Requirement already satisfied: sympy>=1.13.3 in /opt/anaconda3/envs/rad-nlp/lib/python3.10/site-packages (from torch>=1.10.0->accelerate==0.28.0) (1.14.0)\n",
      "Requirement already satisfied: networkx in /opt/anaconda3/envs/rad-nlp/lib/python3.10/site-packages (from torch>=1.10.0->accelerate==0.28.0) (3.4.2)\n",
      "Requirement already satisfied: jinja2 in /opt/anaconda3/envs/rad-nlp/lib/python3.10/site-packages (from torch>=1.10.0->accelerate==0.28.0) (3.1.6)\n",
      "Requirement already satisfied: fsspec in /opt/anaconda3/envs/rad-nlp/lib/python3.10/site-packages (from torch>=1.10.0->accelerate==0.28.0) (2025.3.0)\n",
      "Requirement already satisfied: mpmath<1.4,>=1.1.0 in /opt/anaconda3/envs/rad-nlp/lib/python3.10/site-packages (from sympy>=1.13.3->torch>=1.10.0->accelerate==0.28.0) (1.3.0)\n",
      "Requirement already satisfied: requests in /opt/anaconda3/envs/rad-nlp/lib/python3.10/site-packages (from huggingface-hub->accelerate==0.28.0) (2.32.4)\n",
      "Requirement already satisfied: tqdm>=4.42.1 in /opt/anaconda3/envs/rad-nlp/lib/python3.10/site-packages (from huggingface-hub->accelerate==0.28.0) (4.67.1)\n",
      "Requirement already satisfied: hf-xet<2.0.0,>=1.1.2 in /opt/anaconda3/envs/rad-nlp/lib/python3.10/site-packages (from huggingface-hub->accelerate==0.28.0) (1.1.3)\n",
      "Requirement already satisfied: MarkupSafe>=2.0 in /opt/anaconda3/envs/rad-nlp/lib/python3.10/site-packages (from jinja2->torch>=1.10.0->accelerate==0.28.0) (3.0.2)\n",
      "Requirement already satisfied: charset_normalizer<4,>=2 in /opt/anaconda3/envs/rad-nlp/lib/python3.10/site-packages (from requests->huggingface-hub->accelerate==0.28.0) (3.4.2)\n",
      "Requirement already satisfied: idna<4,>=2.5 in /opt/anaconda3/envs/rad-nlp/lib/python3.10/site-packages (from requests->huggingface-hub->accelerate==0.28.0) (3.10)\n",
      "Requirement already satisfied: urllib3<3,>=1.21.1 in /opt/anaconda3/envs/rad-nlp/lib/python3.10/site-packages (from requests->huggingface-hub->accelerate==0.28.0) (2.4.0)\n",
      "Requirement already satisfied: certifi>=2017.4.17 in /opt/anaconda3/envs/rad-nlp/lib/python3.10/site-packages (from requests->huggingface-hub->accelerate==0.28.0) (2025.6.15)\n",
      "Downloading accelerate-0.28.0-py3-none-any.whl (290 kB)\n",
      "Installing collected packages: accelerate\n",
      "  Attempting uninstall: accelerate\n",
      "    Found existing installation: accelerate 1.7.0\n",
      "    Uninstalling accelerate-1.7.0:\n",
      "      Successfully uninstalled accelerate-1.7.0\n",
      "Successfully installed accelerate-0.28.0\n"
     ]
    }
   ],
   "source": [
    "import sys\n",
    "!{sys.executable} -m pip install accelerate==0.28.0\n"
   ]
  },
  {
   "cell_type": "code",
   "execution_count": 11,
   "id": "1ab26b7c-0f18-4cba-8cee-645f1cb5637c",
   "metadata": {},
   "outputs": [
    {
     "name": "stdout",
     "output_type": "stream",
     "text": [
      "Collecting accelerate\n",
      "  Downloading accelerate-1.7.0-py3-none-any.whl.metadata (19 kB)\n",
      "Requirement already satisfied: numpy<3.0.0,>=1.17 in /opt/anaconda3/envs/rad-nlp/lib/python3.10/site-packages (from accelerate) (2.2.6)\n",
      "Requirement already satisfied: packaging>=20.0 in /opt/anaconda3/envs/rad-nlp/lib/python3.10/site-packages (from accelerate) (25.0)\n",
      "Requirement already satisfied: psutil in /opt/anaconda3/envs/rad-nlp/lib/python3.10/site-packages (from accelerate) (7.0.0)\n",
      "Requirement already satisfied: pyyaml in /opt/anaconda3/envs/rad-nlp/lib/python3.10/site-packages (from accelerate) (6.0.2)\n",
      "Requirement already satisfied: torch>=2.0.0 in /opt/anaconda3/envs/rad-nlp/lib/python3.10/site-packages (from accelerate) (2.7.1)\n",
      "Requirement already satisfied: huggingface-hub>=0.21.0 in /opt/anaconda3/envs/rad-nlp/lib/python3.10/site-packages (from accelerate) (0.33.0)\n",
      "Requirement already satisfied: safetensors>=0.4.3 in /opt/anaconda3/envs/rad-nlp/lib/python3.10/site-packages (from accelerate) (0.5.3)\n",
      "Requirement already satisfied: filelock in /opt/anaconda3/envs/rad-nlp/lib/python3.10/site-packages (from huggingface-hub>=0.21.0->accelerate) (3.18.0)\n",
      "Requirement already satisfied: fsspec>=2023.5.0 in /opt/anaconda3/envs/rad-nlp/lib/python3.10/site-packages (from huggingface-hub>=0.21.0->accelerate) (2025.3.0)\n",
      "Requirement already satisfied: requests in /opt/anaconda3/envs/rad-nlp/lib/python3.10/site-packages (from huggingface-hub>=0.21.0->accelerate) (2.32.4)\n",
      "Requirement already satisfied: tqdm>=4.42.1 in /opt/anaconda3/envs/rad-nlp/lib/python3.10/site-packages (from huggingface-hub>=0.21.0->accelerate) (4.67.1)\n",
      "Requirement already satisfied: typing-extensions>=3.7.4.3 in /opt/anaconda3/envs/rad-nlp/lib/python3.10/site-packages (from huggingface-hub>=0.21.0->accelerate) (4.14.0)\n",
      "Requirement already satisfied: hf-xet<2.0.0,>=1.1.2 in /opt/anaconda3/envs/rad-nlp/lib/python3.10/site-packages (from huggingface-hub>=0.21.0->accelerate) (1.1.3)\n",
      "Requirement already satisfied: sympy>=1.13.3 in /opt/anaconda3/envs/rad-nlp/lib/python3.10/site-packages (from torch>=2.0.0->accelerate) (1.14.0)\n",
      "Requirement already satisfied: networkx in /opt/anaconda3/envs/rad-nlp/lib/python3.10/site-packages (from torch>=2.0.0->accelerate) (3.4.2)\n",
      "Requirement already satisfied: jinja2 in /opt/anaconda3/envs/rad-nlp/lib/python3.10/site-packages (from torch>=2.0.0->accelerate) (3.1.6)\n",
      "Requirement already satisfied: mpmath<1.4,>=1.1.0 in /opt/anaconda3/envs/rad-nlp/lib/python3.10/site-packages (from sympy>=1.13.3->torch>=2.0.0->accelerate) (1.3.0)\n",
      "Requirement already satisfied: MarkupSafe>=2.0 in /opt/anaconda3/envs/rad-nlp/lib/python3.10/site-packages (from jinja2->torch>=2.0.0->accelerate) (3.0.2)\n",
      "Requirement already satisfied: charset_normalizer<4,>=2 in /opt/anaconda3/envs/rad-nlp/lib/python3.10/site-packages (from requests->huggingface-hub>=0.21.0->accelerate) (3.4.2)\n",
      "Requirement already satisfied: idna<4,>=2.5 in /opt/anaconda3/envs/rad-nlp/lib/python3.10/site-packages (from requests->huggingface-hub>=0.21.0->accelerate) (3.10)\n",
      "Requirement already satisfied: urllib3<3,>=1.21.1 in /opt/anaconda3/envs/rad-nlp/lib/python3.10/site-packages (from requests->huggingface-hub>=0.21.0->accelerate) (2.4.0)\n",
      "Requirement already satisfied: certifi>=2017.4.17 in /opt/anaconda3/envs/rad-nlp/lib/python3.10/site-packages (from requests->huggingface-hub>=0.21.0->accelerate) (2025.6.15)\n",
      "Downloading accelerate-1.7.0-py3-none-any.whl (362 kB)\n",
      "Installing collected packages: accelerate\n",
      "Successfully installed accelerate-1.7.0\n"
     ]
    }
   ],
   "source": [
    "import sys\n",
    "!{sys.executable} -m pip install accelerate --upgrade\n"
   ]
  },
  {
   "cell_type": "code",
   "execution_count": 1,
   "id": "92bd117e-0f65-4c37-a02b-f09b4ea4a817",
   "metadata": {},
   "outputs": [
    {
     "name": "stderr",
     "output_type": "stream",
     "text": [
      "/opt/anaconda3/envs/rad-nlp/lib/python3.10/site-packages/tqdm/auto.py:21: TqdmWarning: IProgress not found. Please update jupyter and ipywidgets. See https://ipywidgets.readthedocs.io/en/stable/user_install.html\n",
      "  from .autonotebook import tqdm as notebook_tqdm\n",
      "W0617 10:58:02.141000 4798 site-packages/torch/distributed/elastic/multiprocessing/redirects.py:29] NOTE: Redirects are currently not supported in Windows or MacOs.\n"
     ]
    }
   ],
   "source": [
    "\n",
    "from transformers import (\n",
    "    BartTokenizer,\n",
    "    BartForConditionalGeneration,\n",
    "    Seq2SeqTrainer,\n",
    "    Seq2SeqTrainingArguments\n",
    ")\n",
    "import pandas as pd\n",
    "from datasets import Dataset\n",
    "import torch\n",
    "from sklearn.model_selection import train_test_split\n",
    "\n"
   ]
  },
  {
   "cell_type": "code",
   "execution_count": 3,
   "id": "3bfce59b-e8ad-4726-ab81-7b6211ddd60e",
   "metadata": {},
   "outputs": [],
   "source": [
    "# Load your CSV file (use correct path if needed)\n",
    "df = pd.read_csv(\"synthetic_radiology_reports.csv\")\n",
    "\n",
    "# Split into training and testing datasets\n",
    "train_df, test_df = train_test_split(df, test_size=0.2, random_state=42)\n",
    "\n",
    "# Convert to Hugging Face Dataset format\n",
    "train_dataset = Dataset.from_pandas(train_df[['report', 'summary']])\n",
    "test_dataset = Dataset.from_pandas(test_df[['report', 'summary']])\n"
   ]
  },
  {
   "cell_type": "code",
   "execution_count": 5,
   "id": "ddf2a755-338b-4f20-8705-5ee03e7b4e44",
   "metadata": {},
   "outputs": [
    {
     "name": "stderr",
     "output_type": "stream",
     "text": [
      "/opt/anaconda3/envs/rad-nlp/lib/python3.10/site-packages/huggingface_hub/file_download.py:943: FutureWarning: `resume_download` is deprecated and will be removed in version 1.0.0. Downloads always resume when possible. If you want to force a new download, use `force_download=True`.\n",
      "  warnings.warn(\n",
      "Map: 100%|████████████████████████| 4000/4000 [00:00<00:00, 11769.27 examples/s]\n",
      "Map: 100%|████████████████████████| 1000/1000 [00:00<00:00, 11354.65 examples/s]\n"
     ]
    }
   ],
   "source": [
    "# Load tokenizer and model\n",
    "tokenizer = BartTokenizer.from_pretrained('facebook/bart-large-cnn')\n",
    "model = BartForConditionalGeneration.from_pretrained('facebook/bart-large-cnn')\n",
    "\n",
    "# Tokenization function (uses text_target to avoid deprecation warning)\n",
    "def tokenize_function(example):\n",
    "    model_inputs = tokenizer(example['report'], max_length=512, truncation=True, padding=\"max_length\")\n",
    "    labels = tokenizer(text_target=example['summary'], max_length=128, truncation=True, padding=\"max_length\")\n",
    "    model_inputs[\"labels\"] = labels[\"input_ids\"]\n",
    "    return model_inputs\n",
    "\n",
    "# Apply tokenization\n",
    "tokenized_train = train_dataset.map(tokenize_function, batched=True)\n",
    "tokenized_test = test_dataset.map(tokenize_function, batched=True)\n"
   ]
  },
  {
   "cell_type": "code",
   "execution_count": 7,
   "id": "afdafc68-76ad-4acb-969c-633bbe0450a8",
   "metadata": {},
   "outputs": [
    {
     "name": "stderr",
     "output_type": "stream",
     "text": [
      "/opt/anaconda3/envs/rad-nlp/lib/python3.10/site-packages/huggingface_hub/file_download.py:943: FutureWarning: `resume_download` is deprecated and will be removed in version 1.0.0. Downloads always resume when possible. If you want to force a new download, use `force_download=True`.\n",
      "  warnings.warn(\n"
     ]
    }
   ],
   "source": [
    "from transformers import BartTokenizer, BartForConditionalGeneration\n",
    "\n",
    "# Load tokenizer and BART model\n",
    "tokenizer = BartTokenizer.from_pretrained('facebook/bart-large-cnn')\n",
    "model = BartForConditionalGeneration.from_pretrained('facebook/bart-large-cnn')\n"
   ]
  },
  {
   "cell_type": "code",
   "execution_count": 9,
   "id": "9647b01e-d3bc-48f3-9b68-45c51403eeb0",
   "metadata": {},
   "outputs": [
    {
     "name": "stderr",
     "output_type": "stream",
     "text": [
      "/opt/anaconda3/envs/rad-nlp/lib/python3.10/site-packages/accelerate/accelerator.py:432: FutureWarning: Passing the following arguments to `Accelerator` is deprecated and will be removed in version 1.0 of Accelerate: dict_keys(['dispatch_batches', 'split_batches', 'even_batches', 'use_seedable_sampler']). Please pass an `accelerate.DataLoaderConfiguration` instead: \n",
      "dataloader_config = DataLoaderConfiguration(dispatch_batches=None, split_batches=False, even_batches=True, use_seedable_sampler=True)\n",
      "  warnings.warn(\n"
     ]
    }
   ],
   "source": [
    "training_args = Seq2SeqTrainingArguments(\n",
    "    output_dir=\"./rad_summarizer_model\",\n",
    "    per_device_train_batch_size=2,\n",
    "    per_device_eval_batch_size=2,\n",
    "    num_train_epochs=1,\n",
    "    logging_dir=None,\n",
    "    logging_strategy=\"no\",\n",
    "    save_strategy=\"no\",\n",
    "    report_to=\"none\"\n",
    ")\n",
    "\n",
    "trainer = Seq2SeqTrainer(\n",
    "    model=model,\n",
    "    args=training_args,\n",
    "    train_dataset=tokenized_train,\n",
    "    eval_dataset=tokenized_test,\n",
    "    tokenizer=tokenizer\n",
    ")\n"
   ]
  },
  {
   "cell_type": "code",
   "execution_count": 11,
   "id": "1d70e023-f172-472f-97b0-7eb5ff270c7b",
   "metadata": {},
   "outputs": [
    {
     "name": "stderr",
     "output_type": "stream",
     "text": [
      "/opt/anaconda3/envs/rad-nlp/lib/python3.10/site-packages/torch/utils/data/dataloader.py:683: UserWarning: 'pin_memory' argument is set as true but not supported on MPS now, then device pinned memory won't be used.\n",
      "  warnings.warn(warn_msg)\n"
     ]
    },
    {
     "data": {
      "text/html": [
       "\n",
       "    <div>\n",
       "      \n",
       "      <progress value='2000' max='2000' style='width:300px; height:20px; vertical-align: middle;'></progress>\n",
       "      [2000/2000 35:47, Epoch 1/1]\n",
       "    </div>\n",
       "    <table border=\"1\" class=\"dataframe\">\n",
       "  <thead>\n",
       " <tr style=\"text-align: left;\">\n",
       "      <th>Step</th>\n",
       "      <th>Training Loss</th>\n",
       "    </tr>\n",
       "  </thead>\n",
       "  <tbody>\n",
       "  </tbody>\n",
       "</table><p>"
      ],
      "text/plain": [
       "<IPython.core.display.HTML object>"
      ]
     },
     "metadata": {},
     "output_type": "display_data"
    },
    {
     "data": {
      "text/plain": [
       "TrainOutput(global_step=2000, training_loss=0.06272219467163086, metrics={'train_runtime': 2152.5978, 'train_samples_per_second': 1.858, 'train_steps_per_second': 0.929, 'total_flos': 4334209204224000.0, 'train_loss': 0.06272219467163086, 'epoch': 1.0})"
      ]
     },
     "execution_count": 11,
     "metadata": {},
     "output_type": "execute_result"
    }
   ],
   "source": [
    "trainer.train()\n"
   ]
  },
  {
   "cell_type": "code",
   "execution_count": 15,
   "id": "996a5516-83e7-46aa-9483-127f5c9a7e2b",
   "metadata": {},
   "outputs": [
    {
     "name": "stdout",
     "output_type": "stream",
     "text": [
      "\n",
      "🔹 Report 1:\n",
      "Clear lungs. opacity present in the left upper lobe.\n",
      "✅ Actual Summary:     Mild opacity suggesting infection.\n",
      "🤖 Generated Summary:  left upper lobe opacity.Normal lungs, but opacity seen in left upper lobe. fibrosis seen in right upper lobe, fibrosis. edema.'at taboolainventoryQuantitysenalpmwiki The externalToEVA istgaditionalIn�)... Planned evenly\u001fStreamerBotTHIS�\n",
      "\n",
      "🔹 Report 2:\n",
      "Mild nodule detected in the bilateral lungs, consistent with fibrosis.\n",
      "✅ Actual Summary:     Normal lungs, but nodule seen in bilateral lungs.\n",
      "🤖 Generated Summary:  bilateral lungs noduleNormal lungs, but nodule seen in bilateral lungs, bilateral lungs.Normal lungs. fibrosis suggesting fibrosis. infiltrate. pneumonia.  'inventoryQuantitypmwiki attaboolasenal The externalToEVA.</\u001fIn the istgaditional)... evenly��\n",
      "\n",
      "🔹 Report 3:\n",
      "There is a right lower lobe pleural effusion with air bronchograms.\n",
      "✅ Actual Summary:     Mild pleural effusion suggesting atelectasis.\n",
      "🤖 Generated Summary:  Normal lungs, but pleural effusion seen in right lower lobe.Normal lungs. fibrosis seen in left lower lobe fibrosis. fibro silhouette. 'atinventoryQuantitypmwikisenal externalToEVAIntaboola\u001faditional The istg the� Planned)...�Registration evenly\n",
      "\n",
      "🔹 Report 4:\n",
      "Mild pleural effusion detected in the bilateral lungs, consistent with atelectasis.\n",
      "✅ Actual Summary:     Mild pleural effusion suggesting atelectasis.\n",
      "🤖 Generated Summary:  Normal lungs, but pleural effusion seen in bilateral lungs, bilateral lungs. fibrosis suggesting atelectasis fibrosis fibrosis.  'inventoryQuantity atpmwikisenaltaboola theIn externalToEVA\u001faditional The istg Plannedb)...��unlessTHIS\n",
      "\n",
      "🔹 Report 5:\n",
      "No pleural effusion is seen in the cardiac silhouette.\n",
      "✅ Actual Summary:     Normal lungs, but pleural effusion seen in cardiac silhouette.\n",
      "🤖 Generated Summary:  Normal lungs, but pleural effusion seen in cardiac silhouette, seen in bilateral lungs, fibrosis.Normal lungs. fibrosis suggesting atelectasis. at 'ThepmwikiinventoryQuantitysenal externalToEVAIntaboola\u001faditional PlannedRegistration.</ istg the��)...\n"
     ]
    }
   ],
   "source": [
    "# Force CPU use to avoid MPS embedding issue\n",
    "device = torch.device(\"cpu\")\n",
    "model = model.to(device)\n",
    "\n",
    "# Re-prepare input tensors on CPU\n",
    "inputs = tokenizer(sample_texts, return_tensors=\"pt\", padding=True, truncation=True, max_length=512).to(device)\n",
    "\n",
    "# Generate summaries\n",
    "model.eval()\n",
    "with torch.no_grad():\n",
    "    generated_ids = model.generate(inputs[\"input_ids\"], max_length=100, num_beams=4)\n",
    "\n",
    "# Decode summaries\n",
    "generated_summaries = tokenizer.batch_decode(generated_ids, skip_special_tokens=True)\n",
    "\n",
    "# Show comparison\n",
    "for i in range(5):\n",
    "    print(f\"\\n🔹 Report {i+1}:\\n{sample_texts[i]}\")\n",
    "    print(f\"✅ Actual Summary:     {true_summaries[i]}\")\n",
    "    print(f\"🤖 Generated Summary:  {generated_summaries[i]}\")\n"
   ]
  },
  {
   "cell_type": "code",
   "execution_count": 1,
   "id": "c29e7cb1-a87a-4783-a1f9-fea5467b665e",
   "metadata": {},
   "outputs": [
    {
     "name": "stdout",
     "output_type": "stream",
     "text": [
      "Collecting bert_score\n",
      "  Downloading bert_score-0.3.13-py3-none-any.whl.metadata (15 kB)\n",
      "Requirement already satisfied: torch>=1.0.0 in /opt/anaconda3/envs/rad-nlp/lib/python3.10/site-packages (from bert_score) (2.7.1)\n",
      "Requirement already satisfied: pandas>=1.0.1 in /opt/anaconda3/envs/rad-nlp/lib/python3.10/site-packages (from bert_score) (2.3.0)\n",
      "Requirement already satisfied: transformers>=3.0.0 in /opt/anaconda3/envs/rad-nlp/lib/python3.10/site-packages (from bert_score) (4.39.3)\n",
      "Requirement already satisfied: numpy in /opt/anaconda3/envs/rad-nlp/lib/python3.10/site-packages (from bert_score) (2.2.6)\n",
      "Requirement already satisfied: requests in /opt/anaconda3/envs/rad-nlp/lib/python3.10/site-packages (from bert_score) (2.32.4)\n",
      "Requirement already satisfied: tqdm>=4.31.1 in /opt/anaconda3/envs/rad-nlp/lib/python3.10/site-packages (from bert_score) (4.67.1)\n",
      "Collecting matplotlib (from bert_score)\n",
      "  Downloading matplotlib-3.10.3-cp310-cp310-macosx_11_0_arm64.whl.metadata (11 kB)\n",
      "Requirement already satisfied: packaging>=20.9 in /opt/anaconda3/envs/rad-nlp/lib/python3.10/site-packages (from bert_score) (24.2)\n",
      "Requirement already satisfied: python-dateutil>=2.8.2 in /opt/anaconda3/envs/rad-nlp/lib/python3.10/site-packages (from pandas>=1.0.1->bert_score) (2.9.0.post0)\n",
      "Requirement already satisfied: pytz>=2020.1 in /opt/anaconda3/envs/rad-nlp/lib/python3.10/site-packages (from pandas>=1.0.1->bert_score) (2025.2)\n",
      "Requirement already satisfied: tzdata>=2022.7 in /opt/anaconda3/envs/rad-nlp/lib/python3.10/site-packages (from pandas>=1.0.1->bert_score) (2025.2)\n",
      "Requirement already satisfied: six>=1.5 in /opt/anaconda3/envs/rad-nlp/lib/python3.10/site-packages (from python-dateutil>=2.8.2->pandas>=1.0.1->bert_score) (1.17.0)\n",
      "Requirement already satisfied: filelock in /opt/anaconda3/envs/rad-nlp/lib/python3.10/site-packages (from torch>=1.0.0->bert_score) (3.18.0)\n",
      "Requirement already satisfied: typing-extensions>=4.10.0 in /opt/anaconda3/envs/rad-nlp/lib/python3.10/site-packages (from torch>=1.0.0->bert_score) (4.14.0)\n",
      "Requirement already satisfied: sympy>=1.13.3 in /opt/anaconda3/envs/rad-nlp/lib/python3.10/site-packages (from torch>=1.0.0->bert_score) (1.14.0)\n",
      "Requirement already satisfied: networkx in /opt/anaconda3/envs/rad-nlp/lib/python3.10/site-packages (from torch>=1.0.0->bert_score) (3.4.2)\n",
      "Requirement already satisfied: jinja2 in /opt/anaconda3/envs/rad-nlp/lib/python3.10/site-packages (from torch>=1.0.0->bert_score) (3.1.6)\n",
      "Requirement already satisfied: fsspec in /opt/anaconda3/envs/rad-nlp/lib/python3.10/site-packages (from torch>=1.0.0->bert_score) (2025.3.0)\n",
      "Requirement already satisfied: mpmath<1.4,>=1.1.0 in /opt/anaconda3/envs/rad-nlp/lib/python3.10/site-packages (from sympy>=1.13.3->torch>=1.0.0->bert_score) (1.3.0)\n",
      "Requirement already satisfied: huggingface-hub<1.0,>=0.19.3 in /opt/anaconda3/envs/rad-nlp/lib/python3.10/site-packages (from transformers>=3.0.0->bert_score) (0.33.0)\n",
      "Requirement already satisfied: pyyaml>=5.1 in /opt/anaconda3/envs/rad-nlp/lib/python3.10/site-packages (from transformers>=3.0.0->bert_score) (6.0.2)\n",
      "Requirement already satisfied: regex!=2019.12.17 in /opt/anaconda3/envs/rad-nlp/lib/python3.10/site-packages (from transformers>=3.0.0->bert_score) (2024.11.6)\n",
      "Requirement already satisfied: tokenizers<0.19,>=0.14 in /opt/anaconda3/envs/rad-nlp/lib/python3.10/site-packages (from transformers>=3.0.0->bert_score) (0.15.2)\n",
      "Requirement already satisfied: safetensors>=0.4.1 in /opt/anaconda3/envs/rad-nlp/lib/python3.10/site-packages (from transformers>=3.0.0->bert_score) (0.5.3)\n",
      "Requirement already satisfied: hf-xet<2.0.0,>=1.1.2 in /opt/anaconda3/envs/rad-nlp/lib/python3.10/site-packages (from huggingface-hub<1.0,>=0.19.3->transformers>=3.0.0->bert_score) (1.1.3)\n",
      "Requirement already satisfied: MarkupSafe>=2.0 in /opt/anaconda3/envs/rad-nlp/lib/python3.10/site-packages (from jinja2->torch>=1.0.0->bert_score) (3.0.2)\n",
      "Collecting contourpy>=1.0.1 (from matplotlib->bert_score)\n",
      "  Downloading contourpy-1.3.2-cp310-cp310-macosx_11_0_arm64.whl.metadata (5.5 kB)\n",
      "Collecting cycler>=0.10 (from matplotlib->bert_score)\n",
      "  Using cached cycler-0.12.1-py3-none-any.whl.metadata (3.8 kB)\n",
      "Collecting fonttools>=4.22.0 (from matplotlib->bert_score)\n",
      "  Downloading fonttools-4.58.4-cp310-cp310-macosx_10_9_universal2.whl.metadata (106 kB)\n",
      "Collecting kiwisolver>=1.3.1 (from matplotlib->bert_score)\n",
      "  Downloading kiwisolver-1.4.8-cp310-cp310-macosx_11_0_arm64.whl.metadata (6.2 kB)\n",
      "Requirement already satisfied: pillow>=8 in /opt/anaconda3/envs/rad-nlp/lib/python3.10/site-packages (from matplotlib->bert_score) (11.2.1)\n",
      "Collecting pyparsing>=2.3.1 (from matplotlib->bert_score)\n",
      "  Using cached pyparsing-3.2.3-py3-none-any.whl.metadata (5.0 kB)\n",
      "Requirement already satisfied: charset_normalizer<4,>=2 in /opt/anaconda3/envs/rad-nlp/lib/python3.10/site-packages (from requests->bert_score) (3.4.2)\n",
      "Requirement already satisfied: idna<4,>=2.5 in /opt/anaconda3/envs/rad-nlp/lib/python3.10/site-packages (from requests->bert_score) (3.10)\n",
      "Requirement already satisfied: urllib3<3,>=1.21.1 in /opt/anaconda3/envs/rad-nlp/lib/python3.10/site-packages (from requests->bert_score) (2.4.0)\n",
      "Requirement already satisfied: certifi>=2017.4.17 in /opt/anaconda3/envs/rad-nlp/lib/python3.10/site-packages (from requests->bert_score) (2025.6.15)\n",
      "Downloading bert_score-0.3.13-py3-none-any.whl (61 kB)\n",
      "Downloading matplotlib-3.10.3-cp310-cp310-macosx_11_0_arm64.whl (8.0 MB)\n",
      "\u001b[2K   \u001b[90m━━━━━━━━━━━━━━━━━━━━━━━━━━━━━━━━━━━━━━━━\u001b[0m \u001b[32m8.0/8.0 MB\u001b[0m \u001b[31m11.4 MB/s\u001b[0m eta \u001b[36m0:00:00\u001b[0ma \u001b[36m0:00:01\u001b[0m\n",
      "\u001b[?25hDownloading contourpy-1.3.2-cp310-cp310-macosx_11_0_arm64.whl (253 kB)\n",
      "Using cached cycler-0.12.1-py3-none-any.whl (8.3 kB)\n",
      "Downloading fonttools-4.58.4-cp310-cp310-macosx_10_9_universal2.whl (2.7 MB)\n",
      "\u001b[2K   \u001b[90m━━━━━━━━━━━━━━━━━━━━━━━━━━━━━━━━━━━━━━━━\u001b[0m \u001b[32m2.7/2.7 MB\u001b[0m \u001b[31m11.3 MB/s\u001b[0m eta \u001b[36m0:00:00\u001b[0ma \u001b[36m0:00:01\u001b[0m\n",
      "\u001b[?25hDownloading kiwisolver-1.4.8-cp310-cp310-macosx_11_0_arm64.whl (65 kB)\n",
      "Using cached pyparsing-3.2.3-py3-none-any.whl (111 kB)\n",
      "Installing collected packages: pyparsing, kiwisolver, fonttools, cycler, contourpy, matplotlib, bert_score\n",
      "\u001b[2K   \u001b[90m━━━━━━━━━━━━━━━━━━━━━━━━━━━━━━━━━━━━━━━━\u001b[0m \u001b[32m7/7\u001b[0m [bert_score]7\u001b[0m [matplotlib]\n",
      "\u001b[1A\u001b[2KSuccessfully installed bert_score-0.3.13 contourpy-1.3.2 cycler-0.12.1 fonttools-4.58.4 kiwisolver-1.4.8 matplotlib-3.10.3 pyparsing-3.2.3\n",
      "Collecting nltk\n",
      "  Downloading nltk-3.9.1-py3-none-any.whl.metadata (2.9 kB)\n",
      "Requirement already satisfied: click in /opt/anaconda3/envs/rad-nlp/lib/python3.10/site-packages (from nltk) (8.2.1)\n",
      "Requirement already satisfied: joblib in /opt/anaconda3/envs/rad-nlp/lib/python3.10/site-packages (from nltk) (1.5.1)\n",
      "Requirement already satisfied: regex>=2021.8.3 in /opt/anaconda3/envs/rad-nlp/lib/python3.10/site-packages (from nltk) (2024.11.6)\n",
      "Requirement already satisfied: tqdm in /opt/anaconda3/envs/rad-nlp/lib/python3.10/site-packages (from nltk) (4.67.1)\n",
      "Downloading nltk-3.9.1-py3-none-any.whl (1.5 MB)\n",
      "\u001b[2K   \u001b[90m━━━━━━━━━━━━━━━━━━━━━━━━━━━━━━━━━━━━━━━━\u001b[0m \u001b[32m1.5/1.5 MB\u001b[0m \u001b[31m10.2 MB/s\u001b[0m eta \u001b[36m0:00:00\u001b[0m\n",
      "\u001b[?25hInstalling collected packages: nltk\n",
      "Successfully installed nltk-3.9.1\n"
     ]
    }
   ],
   "source": [
    "!pip install bert_score\n",
    "!pip install nltk"
   ]
  },
  {
   "cell_type": "code",
   "execution_count": 3,
   "id": "0f0dbb50-ee08-467d-895c-25dcc5cbbb02",
   "metadata": {},
   "outputs": [
    {
     "name": "stderr",
     "output_type": "stream",
     "text": [
      "/opt/anaconda3/envs/rad-nlp/lib/python3.10/site-packages/tqdm/auto.py:21: TqdmWarning: IProgress not found. Please update jupyter and ipywidgets. See https://ipywidgets.readthedocs.io/en/stable/user_install.html\n",
      "  from .autonotebook import tqdm as notebook_tqdm\n",
      "/opt/anaconda3/envs/rad-nlp/lib/python3.10/site-packages/huggingface_hub/file_download.py:943: FutureWarning: `resume_download` is deprecated and will be removed in version 1.0.0. Downloads always resume when possible. If you want to force a new download, use `force_download=True`.\n",
      "  warnings.warn(\n",
      "W0617 22:28:24.000000 1210 site-packages/torch/distributed/elastic/multiprocessing/redirects.py:29] NOTE: Redirects are currently not supported in Windows or MacOs.\n",
      "/opt/anaconda3/envs/rad-nlp/lib/python3.10/site-packages/huggingface_hub/file_download.py:943: FutureWarning: `resume_download` is deprecated and will be removed in version 1.0.0. Downloads always resume when possible. If you want to force a new download, use `force_download=True`.\n",
      "  warnings.warn(\n",
      "Some weights of RobertaModel were not initialized from the model checkpoint at roberta-large and are newly initialized: ['roberta.pooler.dense.bias', 'roberta.pooler.dense.weight']\n",
      "You should probably TRAIN this model on a down-stream task to be able to use it for predictions and inference.\n"
     ]
    },
    {
     "name": "stdout",
     "output_type": "stream",
     "text": [
      "calculating scores...\n",
      "computing bert embedding.\n"
     ]
    },
    {
     "name": "stderr",
     "output_type": "stream",
     "text": [
      "100%|█████████████████████████████████████████████| 1/1 [00:00<00:00,  6.47it/s]\n"
     ]
    },
    {
     "name": "stdout",
     "output_type": "stream",
     "text": [
      "computing greedy matching.\n"
     ]
    },
    {
     "name": "stderr",
     "output_type": "stream",
     "text": [
      "100%|█████████████████████████████████████████████| 1/1 [00:00<00:00, 87.24it/s]\n"
     ]
    },
    {
     "name": "stdout",
     "output_type": "stream",
     "text": [
      "done in 0.17 seconds, 29.81 sentences/sec\n",
      "\n",
      "Average BERTScore F1: 0.9285193681716919\n",
      "\n",
      "BLEU Scores:\n",
      "BLEU: 0.0155\n",
      "BLEU: 0.6787\n",
      "BLEU: 0.0446\n",
      "BLEU: 0.0507\n",
      "BLEU: 1.0000\n"
     ]
    }
   ],
   "source": [
    "from bert_score import score\n",
    "from nltk.translate.bleu_score import sentence_bleu, SmoothingFunction\n",
    "\n",
    "references = [\n",
    "    \"Mild opacity suggesting infection.\",\n",
    "    \"Normal lungs, but nodule seen in bilateral lungs.\",\n",
    "    \"Mild pleural effusion suggesting atelectasis.\",\n",
    "    \"Mild pleural effusion suggesting atelectasis.\",\n",
    "    \"Normal lungs, but pleural effusion seen in cardiac silhouette.\"\n",
    "]\n",
    "\n",
    "candidates = [\n",
    "    \"left upper lobe opacity. Normal lungs, but opacity seen in left upper lobe.\",\n",
    "    \"bilateral lungs nodule. Normal lungs, but nodule seen in bilateral lungs.\",\n",
    "    \"Normal lungs, but pleural effusion seen in right lower lobe.\",\n",
    "    \"Normal lungs, but pleural effusion seen in bilateral lungs.\",\n",
    "    \"Normal lungs, but pleural effusion seen in cardiac silhouette.\"\n",
    "]\n",
    "\n",
    "# --- BERTScore ---\n",
    "P, R, F1 = score(candidates, references, lang=\"en\", verbose=True)\n",
    "print(\"\\nAverage BERTScore F1:\", F1.mean().item())\n",
    "\n",
    "# --- BLEU Score ---\n",
    "print(\"\\nBLEU Scores:\")\n",
    "for ref, cand in zip(references, candidates):\n",
    "    ref_tokens = ref.split()\n",
    "    cand_tokens = cand.split()\n",
    "    bleu = sentence_bleu([ref_tokens], cand_tokens, smoothing_function=SmoothingFunction().method1)\n",
    "    print(f\"BLEU: {bleu:.4f}\")\n"
   ]
  },
  {
   "cell_type": "code",
   "execution_count": null,
   "id": "8cdc6da3-8b89-4466-8e2b-1722a2046cef",
   "metadata": {},
   "outputs": [],
   "source": []
  }
 ],
 "metadata": {
  "kernelspec": {
   "display_name": "Python [conda env:rad-nlp]",
   "language": "python",
   "name": "conda-env-rad-nlp-py"
  },
  "language_info": {
   "codemirror_mode": {
    "name": "ipython",
    "version": 3
   },
   "file_extension": ".py",
   "mimetype": "text/x-python",
   "name": "python",
   "nbconvert_exporter": "python",
   "pygments_lexer": "ipython3",
   "version": "3.10.18"
  }
 },
 "nbformat": 4,
 "nbformat_minor": 5
}
